{
 "cells": [
  {
   "cell_type": "code",
   "execution_count": null,
   "metadata": {},
   "outputs": [],
   "source": [
    "%%javascript\n",
    "IPython.OutputArea.prototype._should_scroll = function(lines) {\n",
    "    return false;\n",
    "}"
   ]
  },
  {
   "cell_type": "code",
   "execution_count": 1,
   "metadata": {},
   "outputs": [
    {
     "name": "stderr",
     "output_type": "stream",
     "text": [
      "Using TensorFlow backend.\n"
     ]
    }
   ],
   "source": [
    "%matplotlib inline\n",
    "import matplotlib.pyplot as plt\n",
    "from time import time\n",
    "from tqdm import tqdm\n",
    "import datetime\n",
    "import os\n",
    "import numpy as np\n",
    "import tensorflow as tf\n",
    "import keras\n",
    "import sklearn.model_selection as sk\n",
    "import copy\n",
    "from PIL import Image as IM\n",
    "from keras.callbacks import TensorBoard\n",
    "import cv2\n",
    "import json\n",
    "import pathlib\n",
    "import glob\n",
    "from collections import Counter\n",
    "import seaborn as sns"
   ]
  },
  {
   "cell_type": "code",
   "execution_count": 2,
   "metadata": {},
   "outputs": [],
   "source": [
    "def normalize(a, min, max, scale_min=0, scale_max=255, dtype=np.uint8):\n",
    "    \"\"\" Scales an array of values from specified min, max range to scale_min-scale_max\n",
    "        Optionally specify the data type of the output\n",
    "    \"\"\"\n",
    "    return (scale_min + (((a - min) / float(max - min)) * scale_max)).astype(dtype)"
   ]
  },
  {
   "cell_type": "code",
   "execution_count": 16,
   "metadata": {},
   "outputs": [],
   "source": [
    "def load_bin_file(bin_path):\n",
    "    '''\n",
    "    Load a binary file and convert it into a numpy array.\n",
    "    '''\n",
    "    return np.fromfile(bin_path, dtype=np.float32).reshape(-1, 4)"
   ]
  },
  {
   "cell_type": "code",
   "execution_count": 37,
   "metadata": {},
   "outputs": [],
   "source": [
    "def plot(imgs, labels=None, cmap='gray', figsize=(20,10), fontsize=30):\n",
    "    '''\n",
    "    Displays images and labels in a plot\n",
    "    '''\n",
    "    nrows, ncols = len(imgs), len(imgs[0])\n",
    "    f, axes = plt.subplots(nrows=nrows, ncols=ncols, figsize=figsize)\n",
    "    if nrows == 1 or ncols == 1:\n",
    "        axes = [axes]\n",
    "    if nrows == 1 and ncols == 1:\n",
    "        axes = [axes]\n",
    "    for i in range(0, nrows):\n",
    "        for j in range(0, ncols):\n",
    "            try:\n",
    "                axes[i][j].imshow(imgs[i][j], cmap=cmap)\n",
    "                if labels is not None:\n",
    "                    axes[i][j].set_title(labels[i][j], fontsize=fontsize)\n",
    "            except IndexError as err:\n",
    "                continue\n",
    "    return axes"
   ]
  },
  {
   "cell_type": "code",
   "execution_count": 30,
   "metadata": {},
   "outputs": [],
   "source": [
    "def filter_points(points, side_range=None, fwd_range=None, \\\n",
    "                  height_range=None, intensity_range=None, \\\n",
    "                  horizontal_fov=None, vertical_fov=None):\n",
    "    '''\n",
    "    Returns filtered points based on side(y), forward(x) and height(z) range,\n",
    "    horizontal and vertical field of view, and intensity.\n",
    "    '''\n",
    "    x = points[:, 0]\n",
    "    y = points[:, 1]\n",
    "    z = points[:, 2]\n",
    "    i = points[:, 3]\n",
    "    \n",
    "    mask = np.full_like(x, True)\n",
    "    \n",
    "    if side_range is not None:\n",
    "        side_mask = np.logical_and((y > -side_range[1]), (y < -side_range[0]))\n",
    "        mask = np.logical_and(mask, side_mask)\n",
    "\n",
    "    if fwd_range is not None:\n",
    "        fwd_mask = np.logical_and((x > fwd_range[0]), (x < fwd_range[1]))\n",
    "        mask = np.logical_and(mask, fwd_mask)\n",
    "\n",
    "    if height_range is not None:\n",
    "        height_mask = np.logical_and((z > height_range[0]), (z < height_range[1]))\n",
    "        mask = np.logical_and(mask, height_mask)\n",
    "    \n",
    "    if intensity_range is not None:\n",
    "        intensity_mask = np.logical_and((i > intensity_range[0]), (i < intensity_range[1]))\n",
    "        mask = np.logical_and(mask, intensity_mask)\n",
    "        \n",
    "    if horizontal_fov is not None:\n",
    "        horizontal_fov_mask = np.logical_and(np.arctan2(y, x) > (-horizontal_fov[1] * np.pi / 180), \\\n",
    "                          np.arctan2(y, x) < (-horizontal_fov[0] * np.pi / 180))\n",
    "        mask = np.logical_and(mask, horizontal_fov_mask)\n",
    "    \n",
    "    if vertical_fov is not None:\n",
    "        distance = np.sqrt(x ** 2 + y ** 2 + z ** 2)\n",
    "        vertical_fov_mask = np.logical_and(np.arctan2(z,distance) < (vertical_fov[1] * np.pi / 180), \\\n",
    "                          np.arctan2(z,distance) > (vertical_fov[0] * np.pi / 180))\n",
    "        mask = np.logical_and(mask, vertical_fov_mask)\n",
    "\n",
    "    indices = np.argwhere(mask).flatten()\n",
    "    x_filtered = x[indices]\n",
    "    y_filtered = y[indices]\n",
    "    z_filtered = z[indices]\n",
    "    i_filtered = i[indices]\n",
    "    return np.vstack([x_filtered, y_filtered, z_filtered, i_filtered]).T"
   ]
  },
  {
   "cell_type": "code",
   "execution_count": 31,
   "metadata": {},
   "outputs": [],
   "source": [
    "def get_bev(points, resolution=0.1, side_range=None, fwd_range=None, \\\n",
    "            pixel_values=None, generate_img=None):\n",
    "    '''\n",
    "    Returns bird's eye view of a LiDAR point cloud for a given resolution.\n",
    "    Optional pixel_values can be used for giving color coded info the point cloud.\n",
    "    Optional generate_img function can be used for creating images.\n",
    "    '''\n",
    "    x_range = side_range\n",
    "    y_range = fwd_range\n",
    "    _points = filter_points(points, side_range=x_range, fwd_range=y_range)\n",
    "    x = _points[:, 0]\n",
    "    y = _points[:, 1]\n",
    "    z = _points[:, 2]\n",
    "    \n",
    "    if x_range is None:\n",
    "        x_range = -1 * np.ceil(y.max()).astype(np.int), ((y.min()/np.abs(y.min())) * np.floor(y.min())).astype(np.int)\n",
    "    \n",
    "    if y_range is None:\n",
    "        y_range = np.floor(x.min()).astype(np.int), np.ceil(x.max()).astype(np.int)\n",
    "    \n",
    "    # Create mapping from a 3D point to a pixel based on resolution\n",
    "    # floor() used to prevent issues with -ve vals rounding upwards causing index out bound error\n",
    "    x_img = (-y / resolution).astype(np.int32) - int(np.floor(x_range[0]/resolution))\n",
    "    y_img = (x / resolution).astype(np.int32) - int(np.floor(y_range[0]/resolution))\n",
    "\n",
    "    img_width  = int((x_range[1] - x_range[0])/resolution)\n",
    "    img_height = int((y_range[1] - y_range[0])/resolution)\n",
    "\n",
    "    if pixel_values is None:\n",
    "        pixel_values = (((z - z.min()) / float(z.max() - z.min())) * 255).astype(np.uint8)\n",
    "\n",
    "    if generate_img is None:\n",
    "        img = np.zeros([img_height, img_width], dtype=np.uint8)\n",
    "        img[-y_img, x_img] = pixel_values\n",
    "        return img\n",
    "    \n",
    "    return generate_img(img_height, img_width, -y_img, x_img, pixel_values)"
   ]
  },
  {
   "cell_type": "code",
   "execution_count": 32,
   "metadata": {},
   "outputs": [],
   "source": [
    "def get_features(points):\n",
    "    '''\n",
    "    Returns features of the point cloud as stacked grayscale images.\n",
    "    Shape of the output is (400x200x6).\n",
    "    '''\n",
    "    side_range=(-10, 10)\n",
    "    fwd_range=(6, 46)\n",
    "    res=.1\n",
    "    min_height = -2.73\n",
    "    max_height = 1.27\n",
    "    max_points_per_grid = 500\n",
    "\n",
    "    # calculate the image dimensions\n",
    "    img_width = int((side_range[1] - side_range[0])/res)\n",
    "    img_height = int((fwd_range[1] - fwd_range[0])/res)\n",
    "    number_of_grids = img_height * img_width\n",
    "\n",
    "\n",
    "    x_lidar = points[:, 0]\n",
    "    y_lidar = points[:, 1]\n",
    "    z_lidar = points[:, 2]\n",
    "    r_lidar = points[:, 3]\n",
    "    \n",
    "    # NORMALIZATION\n",
    "    # Normalise the elevation, reflectance, and count\n",
    "    # count will be normalised afterwards\n",
    "    # reflectance range [0.0 - 1.0] in KITTI(already normalised) or [0 - 255] from sensor output. \n",
    "\n",
    "    # clip elevation values\n",
    "    clipped_z_lidar = np.clip(z_lidar, min_height, max_height)\n",
    "    # normalise elevation in range [0 - 1]\n",
    "    norm_z_lidar = (clipped_z_lidar - min_height) / (max_height - min_height)\n",
    "    # norm_z_lidar = clipped_z_lidar - min_height\n",
    "\n",
    "    # MAPPING\n",
    "    # Mappings from one point to grid \n",
    "    # CONVERT TO PIXEL POSITION VALUES - Based on resolution(grid size)\n",
    "    x_img_mapping = (-y_lidar/res).astype(np.int32) # x axis is -y in LIDAR\n",
    "    y_img_mapping = (x_lidar/res).astype(np.int32)  # y axis is -x in LIDAR; will be inverted later\n",
    "\n",
    "    # SHIFT PIXELS TO HAVE MINIMUM BE (0,0)\n",
    "    # floor used to prevent issues with -ve vals rounding upwards\n",
    "    x_img_mapping -= int(np.floor(side_range[0]/res))\n",
    "    y_img_mapping -= int(np.floor(fwd_range[0]/res))\n",
    "\n",
    "    # Linerize the mappings to 1D\n",
    "    lidx = ((-y_img_mapping) % img_height) * img_width + x_img_mapping\n",
    "\n",
    "    # Feature extraction\n",
    "    # count of points per grid\n",
    "    count_input = np.ones_like(norm_z_lidar)\n",
    "    binned_count = np.bincount(lidx, count_input, minlength = number_of_grids)\n",
    "    # sum reflectance\n",
    "    binned_reflectance =  np.bincount(lidx, r_lidar, minlength = number_of_grids)\n",
    "\n",
    "    # sum elevation \n",
    "    binned_elevation = np.bincount(lidx, norm_z_lidar, minlength = number_of_grids)\n",
    "\n",
    "    # Finding mean!\n",
    "    binned_mean_reflectance = np.divide(binned_reflectance, binned_count, out=np.zeros_like(binned_reflectance), where=binned_count!=0.0)\n",
    "    binned_mean_elevation = np.divide(binned_elevation, binned_count, out=np.zeros_like(binned_elevation), where=binned_count!=0.0)\n",
    "    o_mean_elevation = binned_mean_elevation.reshape(img_height, img_width)\n",
    "\n",
    "    # Standard devation stuff\n",
    "    binned_sum_var_elevation = np.bincount(lidx, np.square(norm_z_lidar - o_mean_elevation[-y_img_mapping, x_img_mapping]), minlength = number_of_grids)\n",
    "    binned_divide = np.divide(binned_sum_var_elevation, binned_count, out=np.zeros_like(binned_sum_var_elevation), where=binned_count!=0.0)\n",
    "    binned_std_elevation = np.sqrt(binned_divide)\n",
    "\n",
    "    # minimum and maximum\n",
    "    sidx = lidx.argsort()\n",
    "    idx = lidx[sidx]\n",
    "    val = norm_z_lidar[sidx]\n",
    "\n",
    "    m_idx = np.flatnonzero(np.r_[True,idx[:-1] != idx[1:]])\n",
    "    unq_ids = idx[m_idx]\n",
    "\n",
    "    o_max_elevation = np.zeros([img_height, img_width], dtype=np.float64)\n",
    "    o_min_elevation = np.zeros([img_height, img_width], dtype=np.float64)\n",
    "\n",
    "    o_max_elevation.flat[unq_ids] = np.maximum.reduceat(val, m_idx)\n",
    "    o_min_elevation.flat[unq_ids] = np.minimum.reduceat(val, m_idx)\n",
    "\n",
    "    # Normalise things\n",
    "    norm_binned_count = binned_count / max_points_per_grid\n",
    "    # reshape all other things\n",
    "    o_count            = norm_binned_count.reshape(img_height, img_width)\n",
    "    o_mean_reflectance = binned_mean_reflectance.reshape(img_height, img_width)\n",
    "    o_std_elevation    = binned_std_elevation.reshape(img_height, img_width)\n",
    "    return np.dstack([o_count, o_mean_reflectance, o_max_elevation, o_min_elevation, o_mean_elevation, o_std_elevation])"
   ]
  },
  {
   "cell_type": "code",
   "execution_count": 42,
   "metadata": {},
   "outputs": [
    {
     "data": {
      "text/plain": [
       "[[<matplotlib.axes._subplots.AxesSubplot at 0x7f70ebc1b630>]]"
      ]
     },
     "execution_count": 42,
     "metadata": {},
     "output_type": "execute_result"
    },
    {
     "data": {
      "image/png": "[encoded data removed]",
      "text/plain": [
       "<matplotlib.figure.Figure at 0x7f70ebbdf898>"
      ]
     },
     "metadata": {},
     "output_type": "display_data"
    }
   ],
   "source": [
    "points = load_bin_file('kitti_sample.bin')\n",
    "features = get_features(filter_points(points, side_range=(-10, 10), fwd_range=(6, 46)))\n",
    "plot([[features[:,:,0]]])"
   ]
  },
  {
   "cell_type": "code",
   "execution_count": null,
   "metadata": {},
   "outputs": [],
   "source": []
  },
  {
   "cell_type": "code",
   "execution_count": null,
   "metadata": {},
   "outputs": [],
   "source": []
  },
  {
   "cell_type": "code",
   "execution_count": null,
   "metadata": {},
   "outputs": [],
   "source": []
  }
 ],
 "metadata": {
  "kernelspec": {
   "display_name": "Python 3",
   "language": "python",
   "name": "python3"
  },
  "language_info": {
   "codemirror_mode": {
    "name": "ipython",
    "version": 3
   },
   "file_extension": ".py",
   "mimetype": "text/x-python",
   "name": "python",
   "nbconvert_exporter": "python",
   "pygments_lexer": "ipython3",
   "version": "3.5.2"
  },
  "widgets": {
   "state": {},
   "version": "1.1.2"
  }
 },
 "nbformat": 4,
 "nbformat_minor": 2
}
