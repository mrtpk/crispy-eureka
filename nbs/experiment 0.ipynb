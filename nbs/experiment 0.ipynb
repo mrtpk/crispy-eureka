{
 "cells": [
  {
   "cell_type": "markdown",
   "metadata": {},
   "source": [
    "### Experiment 0\n",
    "\n",
    "\n",
    "The objective with this experiment is to test the pipeline devloped."
   ]
  },
  {
   "cell_type": "code",
   "execution_count": 1,
   "metadata": {},
   "outputs": [
    {
     "name": "stderr",
     "output_type": "stream",
     "text": [
      "Using TensorFlow backend.\n"
     ]
    }
   ],
   "source": [
    "%matplotlib inline\n",
    "import matplotlib.pyplot as plt\n",
    "from time import time\n",
    "from tqdm import tqdm\n",
    "import datetime\n",
    "import os\n",
    "import numpy as np\n",
    "import tensorflow as tf\n",
    "import keras\n",
    "import sklearn.model_selection as sk\n",
    "import copy\n",
    "from PIL import Image as IM\n",
    "from keras.callbacks import TensorBoard\n",
    "import cv2\n",
    "import json\n",
    "import pathlib\n",
    "from glob import glob"
   ]
  },
  {
   "cell_type": "code",
   "execution_count": 2,
   "metadata": {},
   "outputs": [],
   "source": [
    "## import helpers\n",
    "from helpers import data_loaders as dls\n",
    "from helpers import pointcloud as pc\n",
    "from helpers.viz import plot\n",
    "from helpers.logger import Logger"
   ]
  },
  {
   "cell_type": "code",
   "execution_count": 3,
   "metadata": {},
   "outputs": [
    {
     "name": "stdout",
     "output_type": "stream",
     "text": [
      "dataset  nbs  README.md  TODO\r\n"
     ]
    }
   ],
   "source": [
    "PATH = '../' # path of the repo.\n",
    "_NAME = 'experiment0' #name of experiment\n",
    "!ls $PATH"
   ]
  },
  {
   "cell_type": "code",
   "execution_count": 4,
   "metadata": {},
   "outputs": [
    {
     "name": "stdout",
     "output_type": "stream",
     "text": [
      "log  result  tmp\r\n"
     ]
    }
   ],
   "source": [
    "_EXP, _LOG, _TMP, _MODEL, _RES = dls.create_dir_struct(PATH, _NAME)\n",
    "logger = Logger('EXP0', _LOG + 'experiment0.log')\n",
    "logger.debug('Logger EXP0 int')\n",
    "!ls $_EXP"
   ]
  },
  {
   "cell_type": "code",
   "execution_count": 5,
   "metadata": {},
   "outputs": [],
   "source": [
    "# get dataset\n",
    "train_set, valid_set, test_set = dls.get_dataset(PATH, is_training=True)"
   ]
  },
  {
   "cell_type": "code",
   "execution_count": null,
   "metadata": {},
   "outputs": [],
   "source": []
  },
  {
   "cell_type": "code",
   "execution_count": null,
   "metadata": {},
   "outputs": [],
   "source": []
  },
  {
   "cell_type": "code",
   "execution_count": null,
   "metadata": {},
   "outputs": [],
   "source": []
  }
 ],
 "metadata": {
  "kernelspec": {
   "display_name": "Python 3",
   "language": "python",
   "name": "python3"
  },
  "language_info": {
   "codemirror_mode": {
    "name": "ipython",
    "version": 3
   },
   "file_extension": ".py",
   "mimetype": "text/x-python",
   "name": "python",
   "nbconvert_exporter": "python",
   "pygments_lexer": "ipython3",
   "version": "3.5.2"
  },
  "widgets": {
   "state": {},
   "version": "1.1.2"
  }
 },
 "nbformat": 4,
 "nbformat_minor": 2
}
