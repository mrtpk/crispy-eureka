{
 "cells": [
  {
   "cell_type": "code",
   "execution_count": 1,
   "metadata": {},
   "outputs": [
    {
     "name": "stderr",
     "output_type": "stream",
     "text": [
      "Using TensorFlow backend.\n"
     ]
    }
   ],
   "source": [
    "import os\n",
    "import numpy as np\n",
    "import pandas as pd\n",
    "import open3d as o3d\n",
    "from matplotlib import pyplot as plt\n",
    "\n",
    "import loadlib\n",
    "from data import KITTIPointCloud\n",
    "from helpers.data_loaders import *\n",
    "from helpers.pointcloud import filter_points"
   ]
  },
  {
   "cell_type": "code",
   "execution_count": 2,
   "metadata": {},
   "outputs": [],
   "source": [
    "%load_ext autoreload\n",
    "%autoreload 2"
   ]
  },
  {
   "cell_type": "code",
   "execution_count": 3,
   "metadata": {},
   "outputs": [],
   "source": [
    "PATH = '..'"
   ]
  },
  {
   "cell_type": "code",
   "execution_count": null,
   "metadata": {},
   "outputs": [],
   "source": []
  },
  {
   "cell_type": "code",
   "execution_count": 5,
   "metadata": {},
   "outputs": [],
   "source": [
    "training = dict(add_geometrical_features=True,\n",
    "                subsample_flag=False,\n",
    "                subsample_ratio=1,\n",
    "                compute_eigen=0,\n",
    "#                      model_name='lodnn'\n",
    "                    )\n",
    "kpc = KITTIPointCloud(feature_parameters=training, is_training=True, path='../../', view='front', dataset='semantickitti')"
   ]
  },
  {
   "cell_type": "code",
   "execution_count": 6,
   "metadata": {},
   "outputs": [
    {
     "name": "stderr",
     "output_type": "stream",
     "text": [
      "100%|██████████| 10/10 [00:00<00:00, 1276.88it/s]"
     ]
    },
    {
     "name": "stdout",
     "output_type": "stream",
     "text": [
      "Loading dataset\n",
      "nCPUs = 8\n"
     ]
    },
    {
     "name": "stderr",
     "output_type": "stream",
     "text": [
      "\n"
     ]
    },
    {
     "name": "stdout",
     "output_type": "stream",
     "text": [
      "-22.108658 3.0193346\n",
      "-22.108658 3.0193346\n",
      "nCPUs = 8\n"
     ]
    },
    {
     "name": "stderr",
     "output_type": "stream",
     "text": [
      "100%|██████████| 10/10 [00:00<00:00, 764.91it/s]"
     ]
    },
    {
     "name": "stdout",
     "output_type": "stream",
     "text": [
      "nCPUs = 8\n"
     ]
    },
    {
     "name": "stderr",
     "output_type": "stream",
     "text": [
      "\n"
     ]
    },
    {
     "name": "stdout",
     "output_type": "stream",
     "text": [
      "-15.019754 3.0900204\n",
      "-22.108658 3.0900204\n",
      "nCPUs = 8\n",
      "Height ranges from -22.108657836914062 to 3.0900204181671143\n",
      "nCPUs = 8\n",
      "nCPUs = 8\n"
     ]
    }
   ],
   "source": [
    "f_train, gt_train, f_valid, gt_valid = kpc.load_dataset(limit_index=10, classes=[40])"
   ]
  },
  {
   "cell_type": "code",
   "execution_count": null,
   "metadata": {
    "scrolled": false
   },
   "outputs": [],
   "source": [
    "idx = np.random.randint(len(f_train))\n",
    "\n",
    "# titles = ['count', \n",
    "#           'mean_refl', \n",
    "#           'max_z', \n",
    "#           'min_z', \n",
    "#           'mean_z', \n",
    "#           'std_z', \n",
    "#           'nx', \n",
    "#           'ny',\n",
    "#           'nz',\n",
    "#           'curvature',\n",
    "#           'eigenentropy',\n",
    "#           'linearity',\n",
    "#           'omnivariance',\n",
    "#           'planarity',\n",
    "#           'sphericity']\n",
    "\n",
    "titles = ['rho',\n",
    "          'reflectance',\n",
    "          'z',\n",
    "          'nx', \n",
    "          'ny',\n",
    "          'nz',\n",
    "          'curvature',\n",
    "          'eigenentropy',\n",
    "          'linearity',\n",
    "          'omnivariance',\n",
    "          'planarity',\n",
    "          'sphericity']\n",
    "fig, axs = plt.subplots(12, figsize=(15,15))\n",
    "for i, ax in enumerate(axs.ravel()):\n",
    "    im = ax.imshow(f_train[idx, :, :, i], cmap=plt.cm.coolwarm)\n",
    "    ax.set_title(titles[i])\n",
    "    fig.colorbar(im, ax=ax)\n",
    "plt.show()\n",
    "\n",
    "# plt.figure(figsize=(8,4))\n",
    "# plt.imshow(np.abs(gt_train[idx, :, :, 0]))\n",
    "# plt.show()\n",
    "\n",
    "# plt.figure(figsize=(12,4))\n",
    "# plt.imshow(np.abs(f_train[idx, :, :, -3:]))\n",
    "# plt.show()\n",
    "\n"
   ]
  },
  {
   "cell_type": "code",
   "execution_count": null,
   "metadata": {},
   "outputs": [],
   "source": [
    "gt_train.shape"
   ]
  },
  {
   "cell_type": "code",
   "execution_count": null,
   "metadata": {},
   "outputs": [],
   "source": [
    "L = [[i1, i2] for i1, i2 in zip(kpc.train_set['pc'], kpc.train_set['labels'])]"
   ]
  },
  {
   "cell_type": "code",
   "execution_count": null,
   "metadata": {},
   "outputs": [],
   "source": [
    "import keras\n",
    "keras.utils.to_categorical(gt_train[idx, :, :, 0], num_classes=34)"
   ]
  },
  {
   "cell_type": "code",
   "execution_count": null,
   "metadata": {},
   "outputs": [],
   "source": [
    "\n",
    "    \n",
    "print(len(config['labels']))"
   ]
  },
  {
   "cell_type": "code",
   "execution_count": null,
   "metadata": {},
   "outputs": [],
   "source": []
  },
  {
   "cell_type": "code",
   "execution_count": null,
   "metadata": {},
   "outputs": [],
   "source": []
  },
  {
   "cell_type": "code",
   "execution_count": null,
   "metadata": {},
   "outputs": [],
   "source": [
    "# np.array(list(config['labels'].keys()))\n",
    "import yaml\n",
    "with open('../source/semantic-kitti-api/config/semantic-kitti.yaml') as f:\n",
    "    config = yaml.safe_load(f)\n",
    "    \n",
    "label_map = np.zeros(max(config['labels'].keys())+ 1)\n",
    "for n, k in enumerate(config['labels'].keys()):\n",
    "    label_map[k] = n"
   ]
  },
  {
   "cell_type": "code",
   "execution_count": null,
   "metadata": {},
   "outputs": [],
   "source": [
    "keras.utils.to_categorical(label_map[gt_train[0,:,:,0].astype(int)], num_classes=34).shape"
   ]
  },
  {
   "cell_type": "code",
   "execution_count": null,
   "metadata": {},
   "outputs": [],
   "source": [
    "f_train.max(axis=0).max(axis=0).max(axis=0), f_train.min(axis=0).min(axis=0).min(axis=0)"
   ]
  },
  {
   "cell_type": "code",
   "execution_count": null,
   "metadata": {},
   "outputs": [],
   "source": [
    "from source.utils import KittiPointCloudClass as KPC"
   ]
  },
  {
   "cell_type": "code",
   "execution_count": null,
   "metadata": {},
   "outputs": [],
   "source": [
    "features_flag = dict(add_geometrical_features=True,\n",
    "                     subsample_flag=False,\n",
    "                     subsample_ratio=1,\n",
    "                     compute_HOG=False,\n",
    "                     compute_eigen=100,\n",
    "                     model_name='lodnn'\n",
    "                    )\n",
    "kpcc = KPC(features_flag, view='bev', dataset='kitti')"
   ]
  },
  {
   "cell_type": "code",
   "execution_count": null,
   "metadata": {},
   "outputs": [],
   "source": [
    "f_old_train, gt_old_train, f_old_valid, gt_old_valid = kpcc.get_dataset()"
   ]
  },
  {
   "cell_type": "code",
   "execution_count": null,
   "metadata": {},
   "outputs": [],
   "source": [
    "print(idx)\n",
    "titles = ['count', \n",
    "          'mean_refl', \n",
    "          'max_z', \n",
    "          'min_z', \n",
    "          'mean_z', \n",
    "          'std_z', \n",
    "          'nx', \n",
    "          'ny',\n",
    "          'nz',\n",
    "          'curvature',\n",
    "          'eigenentropy',\n",
    "          'linearity',\n",
    "          'omnivariance',\n",
    "          'planarity',\n",
    "          'sphericity']\n",
    "\n",
    "fig, axs = plt.subplots(5, 3, figsize=(15,15))\n",
    "for i, ax in enumerate(axs.ravel()):\n",
    "    im = ax.imshow(f_old_train[idx, :, :, i]-f_train[idx, :, :, i])\n",
    "    print(np.abs(f_old_train[idx, :, :, i]-f_train[idx, :, :,i]).sum())\n",
    "    ax.set_title(titles[i])\n",
    "    fig.colorbar(im, ax=ax)\n",
    "plt.show()"
   ]
  },
  {
   "cell_type": "code",
   "execution_count": null,
   "metadata": {},
   "outputs": [],
   "source": [
    "print(idx)\n",
    "titles = ['count', \n",
    "          'mean_refl', \n",
    "          'max_z', \n",
    "          'min_z', \n",
    "          'mean_z', \n",
    "          'std_z', \n",
    "          'nx', \n",
    "          'ny',\n",
    "          'nz',\n",
    "          'curvature',\n",
    "          'eigenentropy',\n",
    "          'linearity',\n",
    "          'omnivariance',\n",
    "          'planarity',\n",
    "          'sphericity']\n",
    "\n",
    "fig, axs = plt.subplots(5, 3, figsize=(15,15))\n",
    "for i, ax in enumerate(axs.ravel()):\n",
    "    im = ax.imshow(f_old_train[idx, :, :, i])\n",
    "#     print(np.abs(f_old_train[idx, :, :, i]-f_train[idx, :, :,i]).sum())\n",
    "    ax.set_title(titles[i])\n",
    "    fig.colorbar(im, ax=ax)\n",
    "plt.show()\n",
    "\n",
    "# plt.figure(figsize=(4,8))\n",
    "# plt.imshow(np.abs(f_old_train[idx, :, :, -3:]))\n",
    "# plt.show()"
   ]
  },
  {
   "cell_type": "code",
   "execution_count": null,
   "metadata": {},
   "outputs": [],
   "source": [
    "cloud = load_pyntcloud(kpc.train_set['pc'][idx])\n",
    "points = filter_points(cloud.points.values, side_range=(-10,10), fwd_range=(6, 46))\n",
    "cloud = PyntCloud(pd.DataFrame(points, columns=['x', 'y', 'z', 'i']))"
   ]
  },
  {
   "cell_type": "code",
   "execution_count": null,
   "metadata": {},
   "outputs": [],
   "source": [
    "cloud.points['curvature'] = kpc.proj.back_project(cloud.xyz, f_old_train[idx, :, :, -6])\n",
    "cloud.points['eigentropy'] = kpc.proj.back_project(cloud.xyz, f_old_train[idx, :, :, -5])\n",
    "cloud.points['linearity'] = kpc.proj.back_project(cloud.xyz, f_old_train[idx, :, :, -4])\n",
    "cloud.points['omnivariance'] = kpc.proj.back_project(cloud.xyz, f_old_train[idx, :, :, -3])\n",
    "cloud.points['planarity'] = kpc.proj.back_project(cloud.xyz, f_old_train[idx, :, :, -2])\n",
    "cloud.points['sphericity'] = kpc.proj.back_project(cloud.xyz, f_old_train[idx, :, :, -1])"
   ]
  },
  {
   "cell_type": "code",
   "execution_count": null,
   "metadata": {},
   "outputs": [],
   "source": [
    "cloud.plot(initial_point_size=0.03, use_as_color='planarity', cmap=plt.cm.coolwarm)"
   ]
  },
  {
   "cell_type": "code",
   "execution_count": null,
   "metadata": {},
   "outputs": [],
   "source": [
    "k_neighs = cloud.get_neighbors(k=30)\n",
    "eigenvalues = cloud.add_scalar_field(\"eigen_values\", k_neighbors=k_neighs)\n",
    "print(eigenvalues)\n",
    "cloud.add_scalar_field(\"planarity\", ev=eigenvalues)\n",
    "#         k_neighbors = pc.get_neighbors(k=self.kneighbors)\n",
    "#         eigenvalues = pc.add_scalar_field(\"eigen_values\", k_neighbors=k_neighbors)\n",
    "#         # anisotropy = pc.add_scalar_field(\"anisotropy\", ev=eigenvalues)\n",
    "#         curvature = pc.add_scalar_field(\"curvature\", ev=eigenvalues)\n",
    "#         eigenentropy = pc.add_scalar_field(\"eigenentropy\", ev=eigenvalues)\n",
    "#         # eigensum = pc.add_scalar_field(\"eigen_sum\", ev=eigenvalues)\n",
    "#         linearity = pc.add_scalar_field(\"linearity\", ev=eigenvalues)\n",
    "#         omnivariance = pc.add_scalar_field(\"omnivariance\", ev=eigenvalues)\n",
    "#         planarity = pc.add_scalar_field(\"planarity\", ev=eigenvalues)\n",
    "#         sphericity = pc.add_scalar_field(\"sphericity\", ev=eigenvalues)"
   ]
  },
  {
   "cell_type": "code",
   "execution_count": null,
   "metadata": {},
   "outputs": [],
   "source": [
    "cloud.points[eigenvalues].values.sum(axis=1)"
   ]
  },
  {
   "cell_type": "code",
   "execution_count": null,
   "metadata": {},
   "outputs": [],
   "source": [
    "cloud.points[eigenvalues] = cloud.points[eigenvalues].values / cloud.points[eigenvalues].values.sum(axis=1)[:, None]"
   ]
  },
  {
   "cell_type": "code",
   "execution_count": null,
   "metadata": {},
   "outputs": [],
   "source": [
    "cloud.points[eigenvalues].sum(axis=1).values[:, None]"
   ]
  },
  {
   "cell_type": "code",
   "execution_count": null,
   "metadata": {},
   "outputs": [],
   "source": [
    "lambda_1 = cloud.points['e1(31)']\n",
    "lambda_2 = cloud.points['e2(31)']\n",
    "lambda_3 = cloud.points['e3(31)']\n",
    "eig = cloud.points['eigenentropy(31)']"
   ]
  },
  {
   "cell_type": "code",
   "execution_count": null,
   "metadata": {},
   "outputs": [],
   "source": [
    "lambda_sum = lambda_1 + lambda_2 + lambda_3\n",
    "lambda_1 /= lambda_sum\n",
    "lambda_2 /= lambda_sum\n",
    "lambda_3 /= lambda_sum"
   ]
  },
  {
   "cell_type": "code",
   "execution_count": null,
   "metadata": {},
   "outputs": [],
   "source": [
    "eig = -lambda_1 * np.log(lambda_1) -lambda_2 * np.log(lambda_2) -lambda_3 * np.log(lambda_3)\n",
    "plan = (cloud.points['e2(31)'] - cloud.points['e3(31)'])/ cloud.points['e1(31)']"
   ]
  },
  {
   "cell_type": "code",
   "execution_count": null,
   "metadata": {},
   "outputs": [],
   "source": [
    "cloud.points['eig'] = eig\n",
    "cloud.points['plan'] = plan"
   ]
  },
  {
   "cell_type": "code",
   "execution_count": null,
   "metadata": {},
   "outputs": [],
   "source": [
    "o3d_cloud = o3d.geometry.PointCloud()\n",
    "o3d_cloud.points = o3d.utility.Vector3dVector(points[:,:3])\n",
    "o3d.geometry.PointCloud.compute_mean_and_covariance(o3d_cloud.select_down_sample(np.arange(2)))"
   ]
  },
  {
   "cell_type": "code",
   "execution_count": null,
   "metadata": {},
   "outputs": [],
   "source": [
    "kdflann = o3d.geometry.KDTreeFlann(o3d_cloud)"
   ]
  },
  {
   "cell_type": "code",
   "execution_count": null,
   "metadata": {},
   "outputs": [],
   "source": [
    "all_Eig = np.zeros_like(points[:,:3])\n",
    "for i in range(len(points)):\n",
    "    n_neigh, ind, dists = kdflann.search_knn_vector_3d(cloud.xyz[i], 100)\n",
    "    mean, cov = o3d.geometry.PointCloud.compute_mean_and_covariance(o3d_cloud.select_down_sample(ind))\n",
    "    eigs = np.linalg.eigvals(cov) \n",
    "    eigs = np.sort(eigs)[::-1]\n",
    "    eigs /= eigs.sum()\n",
    "    all_Eig[i] = eigs"
   ]
  },
  {
   "cell_type": "code",
   "execution_count": null,
   "metadata": {},
   "outputs": [],
   "source": [
    "cloud.points['eig']=(-all_Eig * np.log(all_Eig)).sum(axis=1)\n",
    "cloud.points['plan'] = (all_Eig[:,2] - all_Eig[:,1]) / all_Eig[:,0]\n",
    "cloud.points['omni'] = np.prod(all_Eig, axis=1)**(1/3)"
   ]
  },
  {
   "cell_type": "code",
   "execution_count": null,
   "metadata": {},
   "outputs": [],
   "source": [
    "cloud.plot(initial_point_size=0.03, use_as_color='omni', cmap=plt.cm.coolwarm)"
   ]
  },
  {
   "cell_type": "code",
   "execution_count": null,
   "metadata": {},
   "outputs": [],
   "source": [
    "np.prod(all_Eig, axis=1)**(1/3)"
   ]
  },
  {
   "cell_type": "code",
   "execution_count": null,
   "metadata": {},
   "outputs": [],
   "source": [
    "np.prod(np.repeat(np.arange(3), 3000).reshape(3,3000).T)"
   ]
  },
  {
   "cell_type": "code",
   "execution_count": null,
   "metadata": {},
   "outputs": [],
   "source": [
    "np.prod(np.repeat(np.arange(3)+1, 3000).reshape(3,3000).T,axis=1)"
   ]
  },
  {
   "cell_type": "code",
   "execution_count": null,
   "metadata": {},
   "outputs": [],
   "source": []
  }
 ],
 "metadata": {
  "kernelspec": {
   "display_name": "Python 3",
   "language": "python",
   "name": "python3"
  },
  "language_info": {
   "codemirror_mode": {
    "name": "ipython",
    "version": 3
   },
   "file_extension": ".py",
   "mimetype": "text/x-python",
   "name": "python",
   "nbconvert_exporter": "python",
   "pygments_lexer": "ipython3",
   "version": "3.6.8"
  }
 },
 "nbformat": 4,
 "nbformat_minor": 2
}
