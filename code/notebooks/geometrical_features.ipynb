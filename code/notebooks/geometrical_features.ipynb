{
 "cells": [
  {
   "cell_type": "markdown",
   "metadata": {},
   "source": [
    "### Geometrical Features\n",
    "\n",
    "This notebook shows how to use functions that generate geometrical features of a point cloud."
   ]
  },
  {
   "cell_type": "code",
   "execution_count": null,
   "metadata": {},
   "outputs": [],
   "source": [
    "import cv2\n",
    "import numpy as np\n",
    "import data_loaders as dls\n",
    "import pointcloud as pc\n",
    "\n",
    "from viz import plot\n",
    "from calibration import Calibration, get_fov_pc\n",
    "from projection import Projection\n",
    "from normals import estimate_normals_from_spherical_img\n",
    "%matplotlib inline\n",
    "import matplotlib\n",
    "import matplotlib.pyplot as plt\n",
    "from glob import glob"
   ]
  },
  {
   "cell_type": "code",
   "execution_count": null,
   "metadata": {},
   "outputs": [],
   "source": [
    "PATH = '../../'"
   ]
  },
  {
   "cell_type": "code",
   "execution_count": null,
   "metadata": {},
   "outputs": [],
   "source": [
    "gt_img_paths = glob(PATH + 'dataset/KITTI/dataset/data_road/training/gt_image_2/*.png')\n",
    "gt_img_paths.sort()\n",
    "\n",
    "velo_paths = glob(PATH + 'dataset/KITTI/dataset/data_road_velodyne/training/velodyne/*.bin')\n",
    "velo_paths.sort()\n",
    "\n",
    "calib_paths = glob(PATH + 'dataset/KITTI/dataset/data_road/training/calib/*.txt')\n",
    "calib_paths.sort()"
   ]
  },
  {
   "cell_type": "code",
   "execution_count": null,
   "metadata": {},
   "outputs": [],
   "source": [
    "id_file = 0\n",
    "gt_img = cv2.imread(gt_img_paths[id_file])\n",
    "calib =  Calibration(calib_paths[id_file])\n",
    "cloud = dls.load_bin_file(velo_paths[id_file])"
   ]
  },
  {
   "cell_type": "code",
   "execution_count": null,
   "metadata": {},
   "outputs": [],
   "source": [
    "# project cloud on ground truth image and get the labels from it\n",
    "# this function return a point cloud represented as a PyntCloud object\n",
    "fov_pc = get_fov_pc(cloud[:,:3], calib, gt_img)"
   ]
  },
  {
   "cell_type": "code",
   "execution_count": null,
   "metadata": {},
   "outputs": [],
   "source": [
    "fov_pc.plot(initial_point_size=0.03, use_as_color='ground_truth', cmap=plt.cm.Set1)"
   ]
  },
  {
   "cell_type": "code",
   "execution_count": null,
   "metadata": {},
   "outputs": [],
   "source": [
    "res_az = 100\n",
    "res_planar = 300\n",
    "proj = Projection(proj_type='spherical', res_azimuthal=res_az, res_planar=res_planar)"
   ]
  },
  {
   "cell_type": "code",
   "execution_count": null,
   "metadata": {},
   "outputs": [],
   "source": [
    "# we generate a spherical image with radial information\n",
    "points = fov_pc.xyz\n",
    "values = np.linalg.norm(points, axis=1)\n",
    "res_rho = 100\n",
    "rho_img= proj.project_points_values(points, values, res_values=res_rho, dtype=np.uint16 )"
   ]
  },
  {
   "cell_type": "code",
   "execution_count": null,
   "metadata": {},
   "outputs": [],
   "source": [
    "plt.imshow(rho_img)"
   ]
  },
  {
   "cell_type": "code",
   "execution_count": null,
   "metadata": {},
   "outputs": [],
   "source": [
    "# zoom of the radial image\n",
    "plt.figure(figsize=(20,4))\n",
    "plt.imshow(rho_img[151:199, 750:1150])"
   ]
  },
  {
   "cell_type": "code",
   "execution_count": null,
   "metadata": {},
   "outputs": [],
   "source": [
    "# estimate normal from radial image\n",
    "normals = estimate_normals_from_spherical_img(rho_img, res_rho=res_rho, res_az=res_az, res_planar=res_planar)"
   ]
  },
  {
   "cell_type": "code",
   "execution_count": null,
   "metadata": {},
   "outputs": [],
   "source": [
    "# show normals (X,Y,Z) coordinates are mapped on (R,G,B) channels\n",
    "plt.figure(figsize=(20,4))\n",
    "plt.imshow(np.abs(normals[151:199, 750:1150]))"
   ]
  },
  {
   "cell_type": "code",
   "execution_count": null,
   "metadata": {},
   "outputs": [],
   "source": [
    "# we can project back the estimated normals to the points in the point cloud\n",
    "normals_3D = proj.back_project(points, normals, res_value=1, dtype=np.float)"
   ]
  },
  {
   "cell_type": "code",
   "execution_count": null,
   "metadata": {},
   "outputs": [],
   "source": [
    "fov_pc.points['nx'] = normals_3D[:,0]\n",
    "fov_pc.points['ny'] = normals_3D[:,1]\n",
    "fov_pc.points['nz'] = normals_3D[:,2]"
   ]
  },
  {
   "cell_type": "code",
   "execution_count": null,
   "metadata": {},
   "outputs": [],
   "source": [
    "# visualize the values of coordinate z of the normals in 3d\n",
    "fov_pc.plot(initial_point_size=0.03, use_as_color='nz', cmap=plt.cm.coolwarm)"
   ]
  },
  {
   "cell_type": "markdown",
   "metadata": {},
   "source": [
    "##### Remark:\n",
    "Results in normal estimation can be improved interpolating void pixels in rho_img"
   ]
  },
  {
   "cell_type": "code",
   "execution_count": null,
   "metadata": {},
   "outputs": [],
   "source": []
  }
 ],
 "metadata": {
  "kernelspec": {
   "display_name": "Python 3",
   "language": "python",
   "name": "python3"
  },
  "language_info": {
   "codemirror_mode": {
    "name": "ipython",
    "version": 3
   },
   "file_extension": ".py",
   "mimetype": "text/x-python",
   "name": "python",
   "nbconvert_exporter": "python",
   "pygments_lexer": "ipython3",
   "version": "3.6.8"
  }
 },
 "nbformat": 4,
 "nbformat_minor": 2
}
